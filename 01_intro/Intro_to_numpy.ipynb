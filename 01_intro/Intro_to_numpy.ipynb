{
 "cells": [
  {
   "cell_type": "markdown",
   "id": "f66a9590-fdf5-44b3-a191-0facf126430d",
   "metadata": {},
   "source": [
    "# Understanding Numpy: A Simple Introduction\n",
    "Numpy, short for Numerical Python, is a powerful Python library that enables efficient and convenient array manipulation and mathematical operations. It forms the foundation for many scientific and data-related tasks. In this article, we'll provide a straightforward explanation of Numpy concepts and how to use them.\n",
    "\n",
    "## Importing Numpy\n",
    "Before diving into Numpy's capabilities, we need to import it. Conventionally, we import Numpy with the alias np, making it easier to reference its functions:"
   ]
  },
  {
   "cell_type": "code",
   "execution_count": 1,
   "id": "b1aed089-8ddd-44f2-8004-e6ae2a33d4ee",
   "metadata": {},
   "outputs": [],
   "source": [
    "import numpy as np"
   ]
  },
  {
   "cell_type": "markdown",
   "id": "3527ce8b-7fb6-4dce-94f0-ca7aa920eebb",
   "metadata": {},
   "source": [
    "## Creating Arrays\n",
    "Basic Array Creation\n",
    "NumPy provides several functions to create arrays:\n",
    "\n",
    "- np.zeros(10): Creates an array of 10 zeros\n",
    "- np.ones(10): Creates an array of 10 ones\n",
    "- np.full(10, 2.5): Creates an array of 10 elements, all with value 2.5"
   ]
  },
  {
   "cell_type": "code",
   "execution_count": 2,
   "id": "91e7c0e8-425c-4388-84b0-3222d032fa7a",
   "metadata": {},
   "outputs": [
    {
     "data": {
      "text/plain": [
       "array([0., 0., 0., 0., 0., 0., 0., 0., 0., 0.])"
      ]
     },
     "execution_count": 2,
     "metadata": {},
     "output_type": "execute_result"
    }
   ],
   "source": [
    "np.zeros(10)"
   ]
  },
  {
   "cell_type": "code",
   "execution_count": 3,
   "id": "5b9f2086-7780-429d-8e0d-27d4bbe110e0",
   "metadata": {},
   "outputs": [
    {
     "data": {
      "text/plain": [
       "array([1., 1., 1., 1., 1., 1., 1., 1., 1., 1.])"
      ]
     },
     "execution_count": 3,
     "metadata": {},
     "output_type": "execute_result"
    }
   ],
   "source": [
    "np.ones(10)"
   ]
  },
  {
   "cell_type": "code",
   "execution_count": 4,
   "id": "1045a48a-2a15-4a66-b401-f50db1635dfa",
   "metadata": {},
   "outputs": [
    {
     "data": {
      "text/plain": [
       "array([2.5, 2.5, 2.5, 2.5, 2.5, 2.5, 2.5, 2.5, 2.5, 2.5])"
      ]
     },
     "execution_count": 4,
     "metadata": {},
     "output_type": "execute_result"
    }
   ],
   "source": [
    "np.full(10, 2.5)"
   ]
  },
  {
   "cell_type": "markdown",
   "id": "9210fed6-e84e-4d36-8ced-f6a208164dba",
   "metadata": {},
   "source": [
    "## From Python Lists\n",
    "Convert a Python list to a NumPy array:"
   ]
  },
  {
   "cell_type": "code",
   "execution_count": 6,
   "id": "6bc2c833-3169-4a86-a0e6-73db08389b72",
   "metadata": {},
   "outputs": [
    {
     "data": {
      "text/plain": [
       "array([ 1,  2,  3,  5,  7, 12])"
      ]
     },
     "execution_count": 6,
     "metadata": {},
     "output_type": "execute_result"
    }
   ],
   "source": [
    "[1, 2, 3, 5, 7, 12]\n",
    "np.array([1, 2, 3, 5, 7, 12])\n",
    "a=np.array([1, 2, 3, 5, 7, 12])\n",
    "a"
   ]
  },
  {
   "cell_type": "markdown",
   "id": "f311f37d-438a-45d0-aa9a-30fec94e5c8e",
   "metadata": {},
   "source": [
    "## Accessing and Modifying Elements\n",
    "Access elements using zero-based indexing:"
   ]
  },
  {
   "cell_type": "code",
   "execution_count": 10,
   "id": "d9849d4f-170d-42bb-99dc-34c1aa044255",
   "metadata": {},
   "outputs": [
    {
     "data": {
      "text/plain": [
       "array([ 1,  2, 10,  5,  7, 12])"
      ]
     },
     "execution_count": 10,
     "metadata": {},
     "output_type": "execute_result"
    }
   ],
   "source": [
    "a[2]  # Returns the third element (3)\n",
    "a[2] = 10  # Changes the third element (3) to 10, ie (3) becomes (10)\n",
    "a"
   ]
  },
  {
   "cell_type": "markdown",
   "id": "332e20ad-5bb4-41a4-86e9-05e8678883c9",
   "metadata": {},
   "source": [
    "## Range-Based Arrays\n",
    "Create arrays with sequential values:"
   ]
  },
  {
   "cell_type": "code",
   "execution_count": 11,
   "id": "cfef2320-0ade-4ddb-8a64-ca62b0ae0551",
   "metadata": {},
   "outputs": [
    {
     "data": {
      "text/plain": [
       "array([0. , 0.1, 0.2, 0.3, 0.4, 0.5, 0.6, 0.7, 0.8, 0.9, 1. ])"
      ]
     },
     "execution_count": 11,
     "metadata": {},
     "output_type": "execute_result"
    }
   ],
   "source": [
    "np.arange(10) ##Creates array with values 0 through 9\n",
    "np.arange(3, 10) ##Creates array with values 3 through 9\n",
    "np.linspace(0, 1, 11) ##Creates 11 evenly spaced values from 0 to 1 inclusive"
   ]
  },
  {
   "cell_type": "code",
   "execution_count": null,
   "id": "8bc4b395-7c06-4647-bbf2-5d565c903682",
   "metadata": {},
   "outputs": [],
   "source": []
  }
 ],
 "metadata": {
  "kernelspec": {
   "display_name": "Python 3 (ipykernel)",
   "language": "python",
   "name": "python3"
  },
  "language_info": {
   "codemirror_mode": {
    "name": "ipython",
    "version": 3
   },
   "file_extension": ".py",
   "mimetype": "text/x-python",
   "name": "python",
   "nbconvert_exporter": "python",
   "pygments_lexer": "ipython3",
   "version": "3.12.1"
  }
 },
 "nbformat": 4,
 "nbformat_minor": 5
}

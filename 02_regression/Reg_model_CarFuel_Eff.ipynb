{
 "cells": [
  {
   "cell_type": "markdown",
   "id": "558a12ea-1e2e-411e-a73e-43238962df7f",
   "metadata": {},
   "source": [
    "# **ML project: Predicting car fuel efficiency**"
   ]
  },
  {
   "cell_type": "code",
   "execution_count": 1,
   "id": "3b66120f-2fb8-415a-862c-e3fd3b0f3f20",
   "metadata": {},
   "outputs": [],
   "source": [
    "import pandas as pd\n",
    "import numpy as np"
   ]
  },
  {
   "cell_type": "markdown",
   "id": "e7e7dda6-11f4-490c-8226-688c5d97408c",
   "metadata": {},
   "source": [
    "## 1. Data preparation"
   ]
  },
  {
   "cell_type": "code",
   "execution_count": 2,
   "id": "1b95c554-fdfc-4e38-b2c1-7b4e4df3e983",
   "metadata": {},
   "outputs": [],
   "source": [
    "df = pd.read_csv(\"car_fuel_efficiency.csv\")"
   ]
  },
  {
   "cell_type": "code",
   "execution_count": 3,
   "id": "fc8a2804-819a-460e-920b-88a5faa5250d",
   "metadata": {},
   "outputs": [
    {
     "data": {
      "text/html": [
       "<div>\n",
       "<style scoped>\n",
       "    .dataframe tbody tr th:only-of-type {\n",
       "        vertical-align: middle;\n",
       "    }\n",
       "\n",
       "    .dataframe tbody tr th {\n",
       "        vertical-align: top;\n",
       "    }\n",
       "\n",
       "    .dataframe thead th {\n",
       "        text-align: right;\n",
       "    }\n",
       "</style>\n",
       "<table border=\"1\" class=\"dataframe\">\n",
       "  <thead>\n",
       "    <tr style=\"text-align: right;\">\n",
       "      <th></th>\n",
       "      <th>engine_displacement</th>\n",
       "      <th>num_cylinders</th>\n",
       "      <th>horsepower</th>\n",
       "      <th>vehicle_weight</th>\n",
       "      <th>acceleration</th>\n",
       "      <th>model_year</th>\n",
       "      <th>origin</th>\n",
       "      <th>fuel_type</th>\n",
       "      <th>drivetrain</th>\n",
       "      <th>num_doors</th>\n",
       "      <th>fuel_efficiency_mpg</th>\n",
       "    </tr>\n",
       "  </thead>\n",
       "  <tbody>\n",
       "    <tr>\n",
       "      <th>0</th>\n",
       "      <td>170</td>\n",
       "      <td>3.0</td>\n",
       "      <td>159.0</td>\n",
       "      <td>3413.433759</td>\n",
       "      <td>17.7</td>\n",
       "      <td>2003</td>\n",
       "      <td>Europe</td>\n",
       "      <td>Gasoline</td>\n",
       "      <td>All-wheel drive</td>\n",
       "      <td>0.0</td>\n",
       "      <td>13.231729</td>\n",
       "    </tr>\n",
       "    <tr>\n",
       "      <th>1</th>\n",
       "      <td>130</td>\n",
       "      <td>5.0</td>\n",
       "      <td>97.0</td>\n",
       "      <td>3149.664934</td>\n",
       "      <td>17.8</td>\n",
       "      <td>2007</td>\n",
       "      <td>USA</td>\n",
       "      <td>Gasoline</td>\n",
       "      <td>Front-wheel drive</td>\n",
       "      <td>0.0</td>\n",
       "      <td>13.688217</td>\n",
       "    </tr>\n",
       "    <tr>\n",
       "      <th>2</th>\n",
       "      <td>170</td>\n",
       "      <td>NaN</td>\n",
       "      <td>78.0</td>\n",
       "      <td>3079.038997</td>\n",
       "      <td>15.1</td>\n",
       "      <td>2018</td>\n",
       "      <td>Europe</td>\n",
       "      <td>Gasoline</td>\n",
       "      <td>Front-wheel drive</td>\n",
       "      <td>0.0</td>\n",
       "      <td>14.246341</td>\n",
       "    </tr>\n",
       "    <tr>\n",
       "      <th>3</th>\n",
       "      <td>220</td>\n",
       "      <td>4.0</td>\n",
       "      <td>NaN</td>\n",
       "      <td>2542.392402</td>\n",
       "      <td>20.2</td>\n",
       "      <td>2009</td>\n",
       "      <td>USA</td>\n",
       "      <td>Diesel</td>\n",
       "      <td>All-wheel drive</td>\n",
       "      <td>2.0</td>\n",
       "      <td>16.912736</td>\n",
       "    </tr>\n",
       "    <tr>\n",
       "      <th>4</th>\n",
       "      <td>210</td>\n",
       "      <td>1.0</td>\n",
       "      <td>140.0</td>\n",
       "      <td>3460.870990</td>\n",
       "      <td>14.4</td>\n",
       "      <td>2009</td>\n",
       "      <td>Europe</td>\n",
       "      <td>Gasoline</td>\n",
       "      <td>All-wheel drive</td>\n",
       "      <td>2.0</td>\n",
       "      <td>12.488369</td>\n",
       "    </tr>\n",
       "  </tbody>\n",
       "</table>\n",
       "</div>"
      ],
      "text/plain": [
       "   engine_displacement  num_cylinders  horsepower  vehicle_weight  \\\n",
       "0                  170            3.0       159.0     3413.433759   \n",
       "1                  130            5.0        97.0     3149.664934   \n",
       "2                  170            NaN        78.0     3079.038997   \n",
       "3                  220            4.0         NaN     2542.392402   \n",
       "4                  210            1.0       140.0     3460.870990   \n",
       "\n",
       "   acceleration  model_year  origin fuel_type         drivetrain  num_doors  \\\n",
       "0          17.7        2003  Europe  Gasoline    All-wheel drive        0.0   \n",
       "1          17.8        2007     USA  Gasoline  Front-wheel drive        0.0   \n",
       "2          15.1        2018  Europe  Gasoline  Front-wheel drive        0.0   \n",
       "3          20.2        2009     USA    Diesel    All-wheel drive        2.0   \n",
       "4          14.4        2009  Europe  Gasoline    All-wheel drive        2.0   \n",
       "\n",
       "   fuel_efficiency_mpg  \n",
       "0            13.231729  \n",
       "1            13.688217  \n",
       "2            14.246341  \n",
       "3            16.912736  \n",
       "4            12.488369  "
      ]
     },
     "execution_count": 3,
     "metadata": {},
     "output_type": "execute_result"
    }
   ],
   "source": [
    "df.head()"
   ]
  },
  {
   "cell_type": "markdown",
   "id": "b93891bf-71db-4f4d-814d-3d26543b5a32",
   "metadata": {},
   "source": [
    "### using only specific columns"
   ]
  },
  {
   "cell_type": "code",
   "execution_count": 4,
   "id": "796caae9-d2db-49e3-94d1-ff31707d96ed",
   "metadata": {},
   "outputs": [],
   "source": [
    "df.copy()\n",
    "df_selected  =  ['engine_displacement', 'horsepower', 'vehicle_weight', 'model_year', 'fuel_efficiency_mpg']\n",
    "df = df[df_selected]"
   ]
  },
  {
   "cell_type": "code",
   "execution_count": 5,
   "id": "1a3cb699-9753-406a-bb36-a9d955fe5616",
   "metadata": {},
   "outputs": [
    {
     "data": {
      "text/html": [
       "<div>\n",
       "<style scoped>\n",
       "    .dataframe tbody tr th:only-of-type {\n",
       "        vertical-align: middle;\n",
       "    }\n",
       "\n",
       "    .dataframe tbody tr th {\n",
       "        vertical-align: top;\n",
       "    }\n",
       "\n",
       "    .dataframe thead th {\n",
       "        text-align: right;\n",
       "    }\n",
       "</style>\n",
       "<table border=\"1\" class=\"dataframe\">\n",
       "  <thead>\n",
       "    <tr style=\"text-align: right;\">\n",
       "      <th></th>\n",
       "      <th>engine_displacement</th>\n",
       "      <th>horsepower</th>\n",
       "      <th>vehicle_weight</th>\n",
       "      <th>model_year</th>\n",
       "      <th>fuel_efficiency_mpg</th>\n",
       "    </tr>\n",
       "  </thead>\n",
       "  <tbody>\n",
       "    <tr>\n",
       "      <th>0</th>\n",
       "      <td>170</td>\n",
       "      <td>159.0</td>\n",
       "      <td>3413.433759</td>\n",
       "      <td>2003</td>\n",
       "      <td>13.231729</td>\n",
       "    </tr>\n",
       "    <tr>\n",
       "      <th>1</th>\n",
       "      <td>130</td>\n",
       "      <td>97.0</td>\n",
       "      <td>3149.664934</td>\n",
       "      <td>2007</td>\n",
       "      <td>13.688217</td>\n",
       "    </tr>\n",
       "    <tr>\n",
       "      <th>2</th>\n",
       "      <td>170</td>\n",
       "      <td>78.0</td>\n",
       "      <td>3079.038997</td>\n",
       "      <td>2018</td>\n",
       "      <td>14.246341</td>\n",
       "    </tr>\n",
       "    <tr>\n",
       "      <th>3</th>\n",
       "      <td>220</td>\n",
       "      <td>NaN</td>\n",
       "      <td>2542.392402</td>\n",
       "      <td>2009</td>\n",
       "      <td>16.912736</td>\n",
       "    </tr>\n",
       "    <tr>\n",
       "      <th>4</th>\n",
       "      <td>210</td>\n",
       "      <td>140.0</td>\n",
       "      <td>3460.870990</td>\n",
       "      <td>2009</td>\n",
       "      <td>12.488369</td>\n",
       "    </tr>\n",
       "  </tbody>\n",
       "</table>\n",
       "</div>"
      ],
      "text/plain": [
       "   engine_displacement  horsepower  vehicle_weight  model_year  \\\n",
       "0                  170       159.0     3413.433759        2003   \n",
       "1                  130        97.0     3149.664934        2007   \n",
       "2                  170        78.0     3079.038997        2018   \n",
       "3                  220         NaN     2542.392402        2009   \n",
       "4                  210       140.0     3460.870990        2009   \n",
       "\n",
       "   fuel_efficiency_mpg  \n",
       "0            13.231729  \n",
       "1            13.688217  \n",
       "2            14.246341  \n",
       "3            16.912736  \n",
       "4            12.488369  "
      ]
     },
     "execution_count": 5,
     "metadata": {},
     "output_type": "execute_result"
    }
   ],
   "source": [
    "df.head()"
   ]
  },
  {
   "cell_type": "markdown",
   "id": "13e87106-24c7-4596-b58a-5154a520da1c",
   "metadata": {},
   "source": [
    "## 2. Exploratory data analysis (EDA)"
   ]
  },
  {
   "cell_type": "code",
   "execution_count": 6,
   "id": "bf37ddf2-9e27-437f-98f8-77f958d60236",
   "metadata": {},
   "outputs": [],
   "source": [
    "import matplotlib.pyplot as plt\n",
    "import seaborn as sns\n",
    "\n",
    "%matplotlib inline"
   ]
  },
  {
   "cell_type": "code",
   "execution_count": 7,
   "id": "78d72788-4de8-4aad-b4ab-5fe32aadc090",
   "metadata": {},
   "outputs": [
    {
     "data": {
      "text/plain": [
       "<Axes: xlabel='fuel_efficiency_mpg', ylabel='Count'>"
      ]
     },
     "execution_count": 7,
     "metadata": {},
     "output_type": "execute_result"
    },
    {
     "data": {
      "image/png": "[encoded data removed]",
      "text/plain": [
       "<Figure size 640x480 with 1 Axes>"
      ]
     },
     "metadata": {},
     "output_type": "display_data"
    }
   ],
   "source": [
    "sns.histplot(df.fuel_efficiency_mpg, bins = 50)"
   ]
  },
  {
   "cell_type": "markdown",
   "id": "4c39f5d6-96c4-44f4-a1f5-db6ffe282fa9",
   "metadata": {},
   "source": [
    "From looking at the df.head(), it appears horsepower has missing values but it is not yet known whether this exist for all columns. so missing values are checked."
   ]
  },
  {
   "cell_type": "code",
   "execution_count": 9,
   "id": "5c77f11b-2156-4951-97e4-d1335523235f",
   "metadata": {},
   "outputs": [
    {
     "data": {
      "text/plain": [
       "engine_displacement      0\n",
       "horsepower             708\n",
       "vehicle_weight           0\n",
       "model_year               0\n",
       "fuel_efficiency_mpg      0\n",
       "dtype: int64"
      ]
     },
     "execution_count": 9,
     "metadata": {},
     "output_type": "execute_result"
    }
   ],
   "source": [
    "df.isnull().sum()"
   ]
  },
  {
   "cell_type": "markdown",
   "id": "2d2b6334-f3b7-4320-a991-570dda80a443",
   "metadata": {},
   "source": [
    "horsepower does indeed have 708 missing values. so missing values are filled in using fillNA()"
   ]
  },
  {
   "cell_type": "code",
   "execution_count": 11,
   "id": "b2a0122c-67eb-41e5-8741-42019d413438",
   "metadata": {},
   "outputs": [
    {
     "data": {
      "text/plain": [
       "np.float64(149.0)"
      ]
     },
     "execution_count": 11,
     "metadata": {},
     "output_type": "execute_result"
    }
   ],
   "source": [
    "# checking for the median horse power\n",
    "\n",
    "median_hp = df['horsepower'].median()\n",
    "median_hp"
   ]
  },
  {
   "cell_type": "markdown",
   "id": "65a9c9d7-4bbc-4855-8200-1d6c0f7b37ab",
   "metadata": {},
   "source": [
    "## Preparing and splitting the dataset"
   ]
  },
  {
   "cell_type": "markdown",
   "id": "487ee8aa-6e2c-44a4-afc4-d26b971b76cf",
   "metadata": {},
   "source": [
    "- Dataset is shuffled (the filtered one as created above), using seed 42 to maintain replication.\n",
    "- Data is splitted into train/val/test sets, with 60%/20%/20% distribution."
   ]
  },
  {
   "cell_type": "code",
   "execution_count": 13,
   "id": "ba476ff0-564d-4c10-969c-97d6f2811f7f",
   "metadata": {},
   "outputs": [
    {
     "data": {
      "text/plain": [
       "(1940, 1940, 5824)"
      ]
     },
     "execution_count": 13,
     "metadata": {},
     "output_type": "execute_result"
    }
   ],
   "source": [
    "## setting the percentage of distribution\n",
    "\n",
    "n = len(df)\n",
    "n_val = int(n * 0.2)\n",
    "n_test = int(n * 0.2)\n",
    "n_train = n - n_val - n_test\n",
    "\n",
    "n_val, n_test, n_train"
   ]
  },
  {
   "cell_type": "code",
   "execution_count": 14,
   "id": "f5c4ddb6-4f1f-49a4-b672-d050b3e2afe9",
   "metadata": {},
   "outputs": [],
   "source": [
    "#Next, is to create the boundaries for the split using the index location. \n",
    "\n",
    "df_train = df.iloc[n_train:]\n",
    "df_val = df.iloc[n_train:n_train + n_val]\n",
    "df_test = df.iloc[n_train + n_val:]"
   ]
  },
  {
   "cell_type": "code",
   "execution_count": 16,
   "id": "d4ac9123-67f8-4831-8cff-9e36418569e4",
   "metadata": {},
   "outputs": [],
   "source": [
    "#Reshuffling the data for representation, such that we have a proper mix of data across all the splitted dataset.\n",
    "\n",
    "idx = np.arange(n)\n",
    "\n",
    "np.random.seed(42) #this ensures the same set of random data is generated for each splitted set (train,val, or test)\n",
    "np.random.shuffle(idx)\n",
    "\n",
    "df_train = df.iloc[idx[:n_train]]\n",
    "df_val = df.iloc[idx[n_train:n_train + n_val]]\n",
    "df_test = df.iloc[idx[n_train + n_val:]]"
   ]
  },
  {
   "cell_type": "code",
   "execution_count": 17,
   "id": "7809a036-74ac-4f2b-a940-1de77ab8c142",
   "metadata": {},
   "outputs": [
    {
     "data": {
      "text/plain": [
       "(5824, 1940, 1940)"
      ]
     },
     "execution_count": 17,
     "metadata": {},
     "output_type": "execute_result"
    }
   ],
   "source": [
    "len(df_train), len(df_val), len(df_test)"
   ]
  },
  {
   "cell_type": "code",
   "execution_count": 18,
   "id": "ee07445e-0187-48e3-8f91-9d2651a909dd",
   "metadata": {},
   "outputs": [
    {
     "data": {
      "text/html": [
       "<div>\n",
       "<style scoped>\n",
       "    .dataframe tbody tr th:only-of-type {\n",
       "        vertical-align: middle;\n",
       "    }\n",
       "\n",
       "    .dataframe tbody tr th {\n",
       "        vertical-align: top;\n",
       "    }\n",
       "\n",
       "    .dataframe thead th {\n",
       "        text-align: right;\n",
       "    }\n",
       "</style>\n",
       "<table border=\"1\" class=\"dataframe\">\n",
       "  <thead>\n",
       "    <tr style=\"text-align: right;\">\n",
       "      <th></th>\n",
       "      <th>engine_displacement</th>\n",
       "      <th>horsepower</th>\n",
       "      <th>vehicle_weight</th>\n",
       "      <th>model_year</th>\n",
       "      <th>fuel_efficiency_mpg</th>\n",
       "    </tr>\n",
       "  </thead>\n",
       "  <tbody>\n",
       "    <tr>\n",
       "      <th>483</th>\n",
       "      <td>220</td>\n",
       "      <td>144.0</td>\n",
       "      <td>2535.887591</td>\n",
       "      <td>2009</td>\n",
       "      <td>16.642943</td>\n",
       "    </tr>\n",
       "    <tr>\n",
       "      <th>7506</th>\n",
       "      <td>160</td>\n",
       "      <td>141.0</td>\n",
       "      <td>2741.170484</td>\n",
       "      <td>2019</td>\n",
       "      <td>16.298377</td>\n",
       "    </tr>\n",
       "    <tr>\n",
       "      <th>8795</th>\n",
       "      <td>230</td>\n",
       "      <td>155.0</td>\n",
       "      <td>2471.880237</td>\n",
       "      <td>2017</td>\n",
       "      <td>18.591822</td>\n",
       "    </tr>\n",
       "    <tr>\n",
       "      <th>1688</th>\n",
       "      <td>150</td>\n",
       "      <td>206.0</td>\n",
       "      <td>3748.164469</td>\n",
       "      <td>2015</td>\n",
       "      <td>11.818843</td>\n",
       "    </tr>\n",
       "    <tr>\n",
       "      <th>6217</th>\n",
       "      <td>300</td>\n",
       "      <td>111.0</td>\n",
       "      <td>2135.716359</td>\n",
       "      <td>2006</td>\n",
       "      <td>19.402209</td>\n",
       "    </tr>\n",
       "  </tbody>\n",
       "</table>\n",
       "</div>"
      ],
      "text/plain": [
       "      engine_displacement  horsepower  vehicle_weight  model_year  \\\n",
       "483                   220       144.0     2535.887591        2009   \n",
       "7506                  160       141.0     2741.170484        2019   \n",
       "8795                  230       155.0     2471.880237        2017   \n",
       "1688                  150       206.0     3748.164469        2015   \n",
       "6217                  300       111.0     2135.716359        2006   \n",
       "\n",
       "      fuel_efficiency_mpg  \n",
       "483             16.642943  \n",
       "7506            16.298377  \n",
       "8795            18.591822  \n",
       "1688            11.818843  \n",
       "6217            19.402209  "
      ]
     },
     "execution_count": 18,
     "metadata": {},
     "output_type": "execute_result"
    }
   ],
   "source": [
    "df_train.head()"
   ]
  },
  {
   "cell_type": "code",
   "execution_count": 19,
   "id": "59de9af3-c3b1-4fc7-8a2d-310fd0d5d1ca",
   "metadata": {},
   "outputs": [],
   "source": [
    "df_train = df_train.reset_index(drop=True)\n",
    "df_val = df_val.reset_index(drop=True)\n",
    "df_test=df_test.reset_index(drop=True)"
   ]
  },
  {
   "cell_type": "code",
   "execution_count": 20,
   "id": "a3b20901-b95b-441b-9075-19ad97626744",
   "metadata": {},
   "outputs": [
    {
     "data": {
      "text/html": [
       "<div>\n",
       "<style scoped>\n",
       "    .dataframe tbody tr th:only-of-type {\n",
       "        vertical-align: middle;\n",
       "    }\n",
       "\n",
       "    .dataframe tbody tr th {\n",
       "        vertical-align: top;\n",
       "    }\n",
       "\n",
       "    .dataframe thead th {\n",
       "        text-align: right;\n",
       "    }\n",
       "</style>\n",
       "<table border=\"1\" class=\"dataframe\">\n",
       "  <thead>\n",
       "    <tr style=\"text-align: right;\">\n",
       "      <th></th>\n",
       "      <th>engine_displacement</th>\n",
       "      <th>horsepower</th>\n",
       "      <th>vehicle_weight</th>\n",
       "      <th>model_year</th>\n",
       "      <th>fuel_efficiency_mpg</th>\n",
       "    </tr>\n",
       "  </thead>\n",
       "  <tbody>\n",
       "    <tr>\n",
       "      <th>0</th>\n",
       "      <td>220</td>\n",
       "      <td>144.0</td>\n",
       "      <td>2535.887591</td>\n",
       "      <td>2009</td>\n",
       "      <td>16.642943</td>\n",
       "    </tr>\n",
       "    <tr>\n",
       "      <th>1</th>\n",
       "      <td>160</td>\n",
       "      <td>141.0</td>\n",
       "      <td>2741.170484</td>\n",
       "      <td>2019</td>\n",
       "      <td>16.298377</td>\n",
       "    </tr>\n",
       "    <tr>\n",
       "      <th>2</th>\n",
       "      <td>230</td>\n",
       "      <td>155.0</td>\n",
       "      <td>2471.880237</td>\n",
       "      <td>2017</td>\n",
       "      <td>18.591822</td>\n",
       "    </tr>\n",
       "    <tr>\n",
       "      <th>3</th>\n",
       "      <td>150</td>\n",
       "      <td>206.0</td>\n",
       "      <td>3748.164469</td>\n",
       "      <td>2015</td>\n",
       "      <td>11.818843</td>\n",
       "    </tr>\n",
       "    <tr>\n",
       "      <th>4</th>\n",
       "      <td>300</td>\n",
       "      <td>111.0</td>\n",
       "      <td>2135.716359</td>\n",
       "      <td>2006</td>\n",
       "      <td>19.402209</td>\n",
       "    </tr>\n",
       "  </tbody>\n",
       "</table>\n",
       "</div>"
      ],
      "text/plain": [
       "   engine_displacement  horsepower  vehicle_weight  model_year  \\\n",
       "0                  220       144.0     2535.887591        2009   \n",
       "1                  160       141.0     2741.170484        2019   \n",
       "2                  230       155.0     2471.880237        2017   \n",
       "3                  150       206.0     3748.164469        2015   \n",
       "4                  300       111.0     2135.716359        2006   \n",
       "\n",
       "   fuel_efficiency_mpg  \n",
       "0            16.642943  \n",
       "1            16.298377  \n",
       "2            18.591822  \n",
       "3            11.818843  \n",
       "4            19.402209  "
      ]
     },
     "execution_count": 20,
     "metadata": {},
     "output_type": "execute_result"
    }
   ],
   "source": [
    "df_train.head()"
   ]
  },
  {
   "cell_type": "code",
   "execution_count": 21,
   "id": "b9ff2c5f-462f-408c-af4d-30c45b392930",
   "metadata": {},
   "outputs": [],
   "source": [
    "y_train = np.log1p(df_train.fuel_efficiency_mpg.values)\n",
    "y_val =  np.log1p(df_val.fuel_efficiency_mpg.values)\n",
    "y_test =  np.log1p(df_test.fuel_efficiency_mpg.values)"
   ]
  },
  {
   "cell_type": "code",
   "execution_count": 22,
   "id": "27225f5b-c21d-4e6f-92cf-47fa610aaa1d",
   "metadata": {},
   "outputs": [],
   "source": [
    "del df_train['fuel_efficiency_mpg']\n",
    "del df_val['fuel_efficiency_mpg']\n",
    "del df_test['fuel_efficiency_mpg']"
   ]
  },
  {
   "cell_type": "code",
   "execution_count": 23,
   "id": "cd09cf27-6468-4169-9d5a-1458b1916039",
   "metadata": {},
   "outputs": [
    {
     "data": {
      "text/plain": [
       "5824"
      ]
     },
     "execution_count": 23,
     "metadata": {},
     "output_type": "execute_result"
    }
   ],
   "source": [
    "len(y_train)"
   ]
  },
  {
   "cell_type": "markdown",
   "id": "ff5dfdfa-f478-4235-a094-ca671eeb4775",
   "metadata": {},
   "source": [
    "## 3. Fixing missing values, training a linear reg model, validation and RMSE."
   ]
  },
  {
   "cell_type": "markdown",
   "id": "86591eee-b1b0-4750-80d1-9fea7a5864f1",
   "metadata": {},
   "source": [
    "### **Fixing NAs with options and training**"
   ]
  },
  {
   "cell_type": "code",
   "execution_count": 110,
   "id": "035a828d-950d-46ac-aa48-e80db522e30e",
   "metadata": {},
   "outputs": [],
   "source": [
    "#option 1, fill na with zero\n",
    "df_train_zero = df_train.copy() #for filling with zeros\n",
    "df_train_mean = df_train.copy() #for filling with mean\n",
    "df_train_zero['horsepower'] = df_train_zero['horsepower'].fillna(0)"
   ]
  },
  {
   "cell_type": "markdown",
   "id": "0bdeb535-edd5-4f7e-a6e9-9c74b2013cda",
   "metadata": {},
   "source": [
    "#### **Option 1, filling with zeros and training a linear reg model**"
   ]
  },
  {
   "cell_type": "code",
   "execution_count": 27,
   "id": "c6cb9366-9d75-4768-a24d-2094d37c5cef",
   "metadata": {},
   "outputs": [],
   "source": [
    "#linear reg model for filling with zeros\n",
    "def train_linear_regression(X, y):\n",
    "    pass"
   ]
  },
  {
   "cell_type": "code",
   "execution_count": 28,
   "id": "e01bc0f5-4e4d-43ea-b108-7c798ac899ed",
   "metadata": {},
   "outputs": [
    {
     "data": {
      "text/plain": [
       "array([[ 148,   24, 1385],\n",
       "       [ 132,   25, 2031],\n",
       "       [ 453,   11,   86],\n",
       "       [ 158,   24,  185],\n",
       "       [ 172,   25,  201],\n",
       "       [ 413,   11,   86],\n",
       "       [  38,   54,  185],\n",
       "       [ 142,   25,  431],\n",
       "       [ 453,   31,   86]])"
      ]
     },
     "execution_count": 28,
     "metadata": {},
     "output_type": "execute_result"
    }
   ],
   "source": [
    "X = [[148, 24, 1385], \n",
    "    [132, 25, 2031],\n",
    "    [453, 11, 86],\n",
    "    [158, 24, 185], \n",
    "    [172, 25, 201],\n",
    "    [413, 11, 86],\n",
    "    [38, 54, 185], \n",
    "    [142, 25, 431],\n",
    "    [453, 31, 86]]\n",
    "\n",
    "X = np.array(X)\n",
    "X"
   ]
  },
  {
   "cell_type": "code",
   "execution_count": 29,
   "id": "4d471fc4-7221-45c4-a724-d6354125c9b5",
   "metadata": {},
   "outputs": [],
   "source": [
    "y = [10000, 20000, 15000, 20050, 10000, 20000, 15000, 25000, 12000]"
   ]
  },
  {
   "cell_type": "code",
   "execution_count": 30,
   "id": "81bf13f4-d42e-4c4b-a9f3-c3d4325b332a",
   "metadata": {},
   "outputs": [],
   "source": [
    "def train_linear_regression(X, y):\n",
    "    ones = np.ones(X.shape[0])\n",
    "    X = np.column_stack([ones, X])\n",
    "    \n",
    "    XTX = X.T.dot(X) #gram matrix\n",
    "    XTX_inv = np.linalg.inv(XTX)  ##calculates inverse of the gram matrix\n",
    "    w_full = XTX_inv.dot(X.T).dot(y)\n",
    "\n",
    "    #w_full  - Complete weight vector including bias\n",
    "    # w0 = w_full[0]  - The bias term (intercept)\n",
    "    # w = w_full[1:]  - The feature weights (slopes)\n",
    "    \n",
    "    return w_full[0], w_full[1:]"
   ]
  },
  {
   "cell_type": "code",
   "execution_count": 31,
   "id": "2c0e681c-38b1-402c-88c9-d8dfaf538a14",
   "metadata": {},
   "outputs": [
    {
     "data": {
      "text/plain": [
       "(np.float64(25844.754055766833),\n",
       " array([ -16.08906468, -199.47254894,   -1.22802883]))"
      ]
     },
     "execution_count": 31,
     "metadata": {},
     "output_type": "execute_result"
    }
   ],
   "source": [
    "train_linear_regression(X,y)"
   ]
  },
  {
   "cell_type": "code",
   "execution_count": 111,
   "id": "d60adaf5-b07d-4841-92d9-a1608383e133",
   "metadata": {},
   "outputs": [],
   "source": [
    "X_train1 = df_train_zero.values"
   ]
  },
  {
   "cell_type": "code",
   "execution_count": 112,
   "id": "cfe2d006-df2f-4c4f-a5f3-73f338bad24c",
   "metadata": {},
   "outputs": [],
   "source": [
    "w0, w = train_linear_regression(X_train1, y_train)"
   ]
  },
  {
   "cell_type": "code",
   "execution_count": 113,
   "id": "13690fb3-fa2d-42f1-b8b7-ca86133c801b",
   "metadata": {},
   "outputs": [
    {
     "data": {
      "text/plain": [
       "array([2.90981589, 2.84278709, 2.93310627, ..., 2.92329662, 3.00305539,\n",
       "       2.94404905], shape=(5824,))"
      ]
     },
     "execution_count": 113,
     "metadata": {},
     "output_type": "execute_result"
    }
   ],
   "source": [
    "y_pred = w0 + X_train1.dot(w)\n",
    "y_pred"
   ]
  },
  {
   "cell_type": "code",
   "execution_count": 108,
   "id": "ee398022-bdc4-4198-a066-4c6e5af2427c",
   "metadata": {},
   "outputs": [
    {
     "data": {
      "text/plain": [
       "<Axes: ylabel='Count'>"
      ]
     },
     "execution_count": 108,
     "metadata": {},
     "output_type": "execute_result"
    },
    {
     "data": {
      "image/png": "[encoded data removed]",
      "text/plain": [
       "<Figure size 640x480 with 1 Axes>"
      ]
     },
     "metadata": {},
     "output_type": "display_data"
    }
   ],
   "source": [
    "sns.histplot(y_pred, color = 'red', alpha = 0.5, bins = 50)\n",
    "sns.histplot(y_train, color = 'blue', alpha = 0.5, bins = 50)"
   ]
  },
  {
   "cell_type": "markdown",
   "id": "cbe35161-3ab3-4f2a-8777-d1d5b05eac63",
   "metadata": {},
   "source": [
    "#### **RMSE - Root mean squared error** "
   ]
  },
  {
   "cell_type": "code",
   "execution_count": 114,
   "id": "07be883b-fa60-4994-b44b-e8bd7a90c39a",
   "metadata": {},
   "outputs": [],
   "source": [
    "def rmse(y, y_pred):\n",
    "    se = (y - y_pred) ** 2\n",
    "    mse = se.mean()\n",
    "    return np.sqrt(mse)"
   ]
  },
  {
   "cell_type": "code",
   "execution_count": 115,
   "id": "019e3d98-7fe3-4ab1-a6aa-04bee79605d1",
   "metadata": {},
   "outputs": [
    {
     "data": {
      "text/plain": [
       "np.float64(0.039)"
      ]
     },
     "execution_count": 115,
     "metadata": {},
     "output_type": "execute_result"
    }
   ],
   "source": [
    "rmse(y_train, y_pred)\n",
    "round(rmse(y_train, y_pred), 3) "
   ]
  },
  {
   "cell_type": "markdown",
   "id": "07bda38c-7bd0-4926-8c57-1e4e8306d6c0",
   "metadata": {},
   "source": [
    "#### then validating model in option 1, and checking RMSE"
   ]
  },
  {
   "cell_type": "code",
   "execution_count": 43,
   "id": "5895e52a-fefb-49b3-9f8e-25c479ca2d9c",
   "metadata": {},
   "outputs": [],
   "source": [
    "X_train1 = df_train_zero.values\n",
    "w0, w = train_linear_regression(X_train1, y_train)\n",
    "y_pred = w0 + X_train1.dot(w)"
   ]
  },
  {
   "cell_type": "code",
   "execution_count": 116,
   "id": "26af02de-0c06-46f2-98ae-17b657d757be",
   "metadata": {},
   "outputs": [],
   "source": [
    "def prepare_X(df):\n",
    "    df_num = df_val.copy()\n",
    "    df_num[\"horsepower\"] = df_num['horsepower'].fillna(0)\n",
    "    X = df_num.values\n",
    "    return X"
   ]
  },
  {
   "cell_type": "code",
   "execution_count": 117,
   "id": "6bbdaf52-3dfd-4d65-800f-d0aa0172cacf",
   "metadata": {},
   "outputs": [
    {
     "data": {
      "text/plain": [
       "np.float64(0.04)"
      ]
     },
     "execution_count": 117,
     "metadata": {},
     "output_type": "execute_result"
    }
   ],
   "source": [
    "X_val1 = prepare_X(df_val)\n",
    "y_pred = w0 + X_val1.dot(w)\n",
    "\n",
    "rmse(y_val, y_pred)\n",
    "round(rmse(y_val, y_pred), 3) ##shows the difference by which your predictions are off from the target value. \n",
    "                    ## in this case, the difference btw y_validation targets in the original data, and the predicted y values for the validation dataset."
   ]
  },
  {
   "cell_type": "markdown",
   "id": "7c491531-6396-4a44-a7a9-096250c97524",
   "metadata": {},
   "source": [
    "#### **Option 2, filling with mean.**"
   ]
  },
  {
   "cell_type": "code",
   "execution_count": 83,
   "id": "eef1cc0d-0cce-493d-8010-b5f90fa3b15a",
   "metadata": {},
   "outputs": [],
   "source": [
    "df_train_mean = df_train.copy() #for filling with mean\n",
    "mean_hp = df_train_mean['horsepower'].mean()\n",
    "\n",
    "df_train_mean['horsepower'] = df_train_mean['horsepower'].fillna(mean_hp)"
   ]
  },
  {
   "cell_type": "code",
   "execution_count": 84,
   "id": "408fd7e7-8059-4d17-90f6-7ad871a6ef7f",
   "metadata": {},
   "outputs": [
    {
     "data": {
      "text/plain": [
       "engine_displacement    0\n",
       "horsepower             0\n",
       "vehicle_weight         0\n",
       "model_year             0\n",
       "dtype: int64"
      ]
     },
     "execution_count": 84,
     "metadata": {},
     "output_type": "execute_result"
    }
   ],
   "source": [
    "df_train_mean.isna().sum()"
   ]
  },
  {
   "cell_type": "code",
   "execution_count": 87,
   "id": "98cccfe9-53fc-407c-b3af-14eab69e489c",
   "metadata": {},
   "outputs": [],
   "source": [
    "X_train2 = df_train_mean.values"
   ]
  },
  {
   "cell_type": "code",
   "execution_count": 88,
   "id": "f2ea41e2-5f5f-4183-83c5-015edd9234a1",
   "metadata": {},
   "outputs": [],
   "source": [
    "w0, w = train_linear_regression(X_train2, y_train) ##NB, train_linear_regression model has already been defined in cell [30]"
   ]
  },
  {
   "cell_type": "code",
   "execution_count": 118,
   "id": "2f6aed75-cd7d-410a-9cff-39fa4ffad533",
   "metadata": {},
   "outputs": [
    {
     "data": {
      "text/plain": [
       "array([2.90981589, 2.84278709, 2.93310627, ..., 2.92329662, 3.00305539,\n",
       "       2.94404905], shape=(5824,))"
      ]
     },
     "execution_count": 118,
     "metadata": {},
     "output_type": "execute_result"
    }
   ],
   "source": [
    "y_pred_wtmean = w0 + X_train2.dot(w)\n",
    "y_pred_wtmean"
   ]
  },
  {
   "cell_type": "code",
   "execution_count": 95,
   "id": "c409da1b-5875-4aad-a41a-a2e5160b13ca",
   "metadata": {},
   "outputs": [
    {
     "data": {
      "image/png": "[encoded data removed]",
      "text/plain": [
       "<Figure size 640x480 with 1 Axes>"
      ]
     },
     "metadata": {},
     "output_type": "display_data"
    }
   ],
   "source": [
    "sns.histplot(y_pred_wtmean, color = 'red', alpha = 0.5, bins = 50, label = 'y_pred_wtmean')\n",
    "sns.histplot(y_train, color = 'blue', alpha = 0.5, bins = 50, label = 'actual target')\n",
    "plt.legend()\n",
    "plt.show()"
   ]
  },
  {
   "cell_type": "markdown",
   "id": "a630d873-e168-44a0-a38f-04438819c401",
   "metadata": {},
   "source": [
    "The histogram appears to have three colors instead of two because Seaborn (and Matplotlib) will automatically assign a third color to the overlapping region of the two histograms. When you plot two histograms with transparency (alpha < 1), the area where the red and blue bars overlap will be shown as a blend of the two colors (often purple)."
   ]
  },
  {
   "cell_type": "markdown",
   "id": "73ad0ee3-2154-408c-a284-444b28821905",
   "metadata": {},
   "source": [
    "#### **RMSE - Root mean squared error for filled mean** "
   ]
  },
  {
   "cell_type": "code",
   "execution_count": 119,
   "id": "793b6015-45c8-42ce-ae91-3a0dd3a9314c",
   "metadata": {},
   "outputs": [
    {
     "data": {
      "text/plain": [
       "np.float64(0.038)"
      ]
     },
     "execution_count": 119,
     "metadata": {},
     "output_type": "execute_result"
    }
   ],
   "source": [
    "# Based on training data \n",
    "rmse(y_train, y_pred_wtmean)\n",
    "round(rmse(y_train, y_pred_wtmean), 3) "
   ]
  },
  {
   "cell_type": "code",
   "execution_count": 120,
   "id": "a67b7c20-caff-4318-ac5f-a97bde35d4c8",
   "metadata": {},
   "outputs": [
    {
     "data": {
      "text/plain": [
       "np.float64(0.04)"
      ]
     },
     "execution_count": 120,
     "metadata": {},
     "output_type": "execute_result"
    }
   ],
   "source": [
    "#based on val part\n",
    "X_val2 = prepare_X(df_val) #prepare_X already defined, and there was no need to fillna using mean.\n",
    "y_pred = w0 + X_val2.dot(w) \n",
    "\n",
    "rmse(y_val, y_pred)\n",
    "round(rmse(y_val, y_pred), 3)"
   ]
  },
  {
   "cell_type": "markdown",
   "id": "7ed24cc8-0559-46c8-91cc-98d6b558bccf",
   "metadata": {},
   "source": [
    "## 4. Training a regularised linear regression"
   ]
  },
  {
   "cell_type": "code",
   "execution_count": 121,
   "id": "e698c20e-463c-4412-ad86-c09221628b62",
   "metadata": {},
   "outputs": [],
   "source": [
    "df_train['horsepower'] = df_train['horsepower'].fillna(0)\n",
    "df_val['horsepower'] = df_val['horsepower'].fillna(0)\n",
    "df_test['horsepower'] = df_test['horsepower'].fillna(0)"
   ]
  },
  {
   "cell_type": "code",
   "execution_count": 122,
   "id": "5016bb68-6d58-4f0d-9fcd-47021e74538e",
   "metadata": {},
   "outputs": [
    {
     "data": {
      "text/plain": [
       "engine_displacement    0\n",
       "horsepower             0\n",
       "vehicle_weight         0\n",
       "model_year             0\n",
       "dtype: int64"
      ]
     },
     "execution_count": 122,
     "metadata": {},
     "output_type": "execute_result"
    }
   ],
   "source": [
    "df_train.isna().sum()"
   ]
  },
  {
   "cell_type": "code",
   "execution_count": 123,
   "id": "f6e5d759-d559-4097-a9f5-fd438e016f7f",
   "metadata": {},
   "outputs": [],
   "source": [
    "X_train = df_train.values"
   ]
  },
  {
   "cell_type": "code",
   "execution_count": 124,
   "id": "5c0cab55-5451-41b6-b0f2-03a1ece68c6c",
   "metadata": {},
   "outputs": [],
   "source": [
    "w0, w = train_linear_regression(X_train, y_train)"
   ]
  },
  {
   "cell_type": "code",
   "execution_count": 128,
   "id": "9273b799-a86d-4f7e-a8f3-7cbf7bf8449a",
   "metadata": {},
   "outputs": [],
   "source": [
    "def prepare_Xmain(df):\n",
    "    df_num = df.copy()\n",
    "    df_num = df_num.fillna(0)\n",
    "    X = df_num.values\n",
    "    return X"
   ]
  },
  {
   "cell_type": "code",
   "execution_count": 130,
   "id": "4e61f4bf-4485-4288-97bb-83a5860336f4",
   "metadata": {},
   "outputs": [],
   "source": [
    "def train_linear_regression_reg(X, y, r = 0.001):\n",
    "    ones = np.ones(X.shape[0])\n",
    "    X = np.column_stack([ones, X])\n",
    "    \n",
    "    XTX = X.T.dot(X)\n",
    "    XTX = XTX + r * np.eye(XTX.shape[0])\n",
    "    \n",
    "    XTX_inv = np.linalg.inv(XTX)\n",
    "    w_full = XTX_inv.dot(X.T).dot(y)\n",
    "    \n",
    "    return w_full[0], w_full[1:]"
   ]
  },
  {
   "cell_type": "code",
   "execution_count": 134,
   "id": "92a37892-aa79-4a9b-9fb6-618d43f55b1c",
   "metadata": {},
   "outputs": [
    {
     "name": "stdout",
     "output_type": "stream",
     "text": [
      "0 3.664666247383519 0.039979257825777034\n",
      "0.01 3.168813446992993 0.039977872016356164\n",
      "0.1 1.4288369989813987 0.04050873984547382\n",
      "1 0.22012861947491938 0.041353851508238566\n",
      "5 0.04624885656830112 0.041506118232732744\n",
      "10 0.023271722731612262 0.04152680123751592\n",
      "100 0.0023413689852454602 0.04154575656081053\n"
     ]
    }
   ],
   "source": [
    "# How to know the best parameter, r, for regularisation.\n",
    "\n",
    "for r in [0, 0.01, 0.1, 1, 5, 10, 100]:\n",
    "\n",
    "    X_train = prepare_Xmain(df_train)\n",
    "    w0, w = train_linear_regression_reg(X_train, y_train, r=r)\n",
    "\n",
    "    X_val = prepare_X(df_val)\n",
    "    y_pred = w0 + X_val.dot(w)\n",
    "    score = rmse(y_val, y_pred)\n",
    "\n",
    "    print(r, w0, score)\n",
    "    "
   ]
  },
  {
   "cell_type": "markdown",
   "id": "760be98d-3f30-485d-8232-f5fa54a1815e",
   "metadata": {},
   "source": [
    "Here, 0.01 as parameter r, is most suitable as it gives the lowest score = 0.039977872016356164"
   ]
  },
  {
   "cell_type": "markdown",
   "id": "fac9d05c-e024-49e1-8eee-53017ceffc20",
   "metadata": {},
   "source": [
    "#### **5. checking different seed values**"
   ]
  },
  {
   "cell_type": "code",
   "execution_count": 138,
   "id": "d36ad697-39e6-4e39-98e4-1a77e468d0d2",
   "metadata": {},
   "outputs": [
    {
     "name": "stdout",
     "output_type": "stream",
     "text": [
      "Seeds: [0, 1, 2, 3, 4, 5, 6, 7, 8, 9]\n",
      "Validation RMSEs: [np.float64(0.03801775537080148), np.float64(0.03927885333921255), np.float64(0.03944653052537959), np.float64(0.038727637037731855), np.float64(0.03727535850054727), np.float64(0.03938438834004637), np.float64(0.03890763931360936), np.float64(0.03837971626977783), np.float64(0.04018986975230982), np.float64(0.03860764644229973)]\n",
      "Std RMSE: 0.001\n"
     ]
    }
   ],
   "source": [
    "rmse_scores = []\n",
    "\n",
    "for seed in range(10):\n",
    "    # Shuffle and split\n",
    "    n = len(df)\n",
    "    n_val = int(n * 0.2)\n",
    "    n_test = int(n * 0.2)\n",
    "    n_train = n - n_val - n_test\n",
    "\n",
    "    idx = np.arange(n)\n",
    "    np.random.seed(seed)\n",
    "    np.random.shuffle(idx)\n",
    "\n",
    "    df_train = df.iloc[idx[:n_train]].reset_index(drop=True)\n",
    "    df_val = df.iloc[idx[n_train:n_train + n_val]].reset_index(drop=True)\n",
    "    df_test = df.iloc[idx[n_train + n_val:]].reset_index(drop=True)\n",
    "\n",
    "    # Prepare targets\n",
    "    y_train = np.log1p(df_train.fuel_efficiency_mpg.values)\n",
    "    y_val = np.log1p(df_val.fuel_efficiency_mpg.values)\n",
    "\n",
    "    # Prepare features\n",
    "    del df_train['fuel_efficiency_mpg']\n",
    "    del df_val['fuel_efficiency_mpg']\n",
    "\n",
    "    X_train = df_train.fillna(0).values\n",
    "    X_val = df_val.fillna(0).values\n",
    "\n",
    "    # Train model1\n",
    "    w0, w = train_linear_regression(X_train, y_train) #trains model on training set\n",
    "    y_pred = w0 + X_val.dot(w) \n",
    "    \n",
    "    \n",
    "    # Calculate RMSE\n",
    "    score = rmse(y_val, y_pred)\n",
    "    rmse_scores.append(score)\n",
    "\n",
    "print(\"Seeds:\", list(range(10)))\n",
    "print(\"Validation RMSEs:\", rmse_scores)\n",
    "print(\"Std RMSE:\", round(np.std(rmse_scores), 3))"
   ]
  },
  {
   "cell_type": "markdown",
   "id": "d7191f6d-488b-4553-ba1f-e8a997ca890c",
   "metadata": {},
   "source": [
    "## 6. "
   ]
  },
  {
   "cell_type": "code",
   "execution_count": 139,
   "id": "93661c89-64e9-43f6-bb42-4322b44cc880",
   "metadata": {},
   "outputs": [
    {
     "name": "stdout",
     "output_type": "stream",
     "text": [
      "Test RMSE: 0.039\n"
     ]
    }
   ],
   "source": [
    "# 1. Shuffle and split with seed 9\n",
    "n = len(df)\n",
    "n_val = int(n * 0.2)\n",
    "n_test = int(n * 0.2)\n",
    "n_train = n - n_val - n_test\n",
    "\n",
    "idx = np.arange(n)\n",
    "np.random.seed(9)\n",
    "np.random.shuffle(idx)\n",
    "\n",
    "df_train = df.iloc[idx[:n_train]].reset_index(drop=True)\n",
    "df_val = df.iloc[idx[n_train:n_train + n_val]].reset_index(drop=True)\n",
    "df_test = df.iloc[idx[n_train + n_val:]].reset_index(drop=True)\n",
    "\n",
    "# 2. Combine train and validation sets\n",
    "df_full_train = pd.concat([df_train, df_val]).reset_index(drop=True)\n",
    "\n",
    "# 3. Prepare targets\n",
    "y_full_train = np.log1p(df_full_train.fuel_efficiency_mpg.values)\n",
    "y_test = np.log1p(df_test.fuel_efficiency_mpg.values)\n",
    "\n",
    "# 4. Prepare features\n",
    "df_full_train = df_full_train.drop(columns=['fuel_efficiency_mpg'])\n",
    "df_test = df_test.drop(columns=['fuel_efficiency_mpg'])\n",
    "\n",
    "X_full_train = df_full_train.fillna(0).values\n",
    "X_test = df_test.fillna(0).values\n",
    "\n",
    "# 5. Train regularized model\n",
    "w0, w = train_linear_regression_reg(X_full_train, y_full_train, r=0.001)\n",
    "\n",
    "# 6. Predict and evaluate on test set\n",
    "y_pred = w0 + X_test.dot(w)\n",
    "rmse_test = rmse(y_test, y_pred)\n",
    "print(\"Test RMSE:\", round(rmse_test, 3))"
   ]
  },
  {
   "cell_type": "code",
   "execution_count": null,
   "id": "d05f2d7d-a285-4068-a4bf-e1119ed8a9b6",
   "metadata": {},
   "outputs": [],
   "source": []
  }
 ],
 "metadata": {
  "kernelspec": {
   "display_name": "Python 3 (ipykernel)",
   "language": "python",
   "name": "python3"
  },
  "language_info": {
   "codemirror_mode": {
    "name": "ipython",
    "version": 3
   },
   "file_extension": ".py",
   "mimetype": "text/x-python",
   "name": "python",
   "nbconvert_exporter": "python",
   "pygments_lexer": "ipython3",
   "version": "3.12.1"
  }
 },
 "nbformat": 4,
 "nbformat_minor": 5
}

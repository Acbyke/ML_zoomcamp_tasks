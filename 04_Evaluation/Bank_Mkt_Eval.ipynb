{
 "cells": [
  {
   "cell_type": "markdown",
   "id": "ca808c88",
   "metadata": {},
   "source": [
    "# Computing Evaluation metrics for bank marketing dataset"
   ]
  },
  {
   "cell_type": "code",
   "execution_count": 1,
   "id": "9a9bc5eb",
   "metadata": {},
   "outputs": [],
   "source": [
    "import numpy as np\n",
    "import pandas as pd\n",
    "import matplotlib.pyplot as plt\n",
    "import seaborn as sns\n",
    "\n",
    "from sklearn.model_selection import train_test_split\n",
    "from sklearn.feature_extraction import DictVectorizer\n",
    "from sklearn.linear_model import LogisticRegression"
   ]
  },
  {
   "cell_type": "code",
   "execution_count": 2,
   "id": "ff4d6a1e",
   "metadata": {},
   "outputs": [],
   "source": [
    "url = 'https://raw.githubusercontent.com/alexeygrigorev/datasets/master/course_lead_scoring.csv'\n",
    "\n",
    "#this is same data downloaded from kaggle in the previous classification task."
   ]
  },
  {
   "cell_type": "code",
   "execution_count": 3,
   "id": "f4107638",
   "metadata": {},
   "outputs": [
    {
     "data": {
      "text/html": [
       "<div>\n",
       "<style scoped>\n",
       "    .dataframe tbody tr th:only-of-type {\n",
       "        vertical-align: middle;\n",
       "    }\n",
       "\n",
       "    .dataframe tbody tr th {\n",
       "        vertical-align: top;\n",
       "    }\n",
       "\n",
       "    .dataframe thead th {\n",
       "        text-align: right;\n",
       "    }\n",
       "</style>\n",
       "<table border=\"1\" class=\"dataframe\">\n",
       "  <thead>\n",
       "    <tr style=\"text-align: right;\">\n",
       "      <th></th>\n",
       "      <th>lead_source</th>\n",
       "      <th>industry</th>\n",
       "      <th>number_of_courses_viewed</th>\n",
       "      <th>annual_income</th>\n",
       "      <th>employment_status</th>\n",
       "      <th>location</th>\n",
       "      <th>interaction_count</th>\n",
       "      <th>lead_score</th>\n",
       "      <th>converted</th>\n",
       "    </tr>\n",
       "  </thead>\n",
       "  <tbody>\n",
       "    <tr>\n",
       "      <th>0</th>\n",
       "      <td>paid_ads</td>\n",
       "      <td>NaN</td>\n",
       "      <td>1</td>\n",
       "      <td>79450.0</td>\n",
       "      <td>unemployed</td>\n",
       "      <td>south_america</td>\n",
       "      <td>4</td>\n",
       "      <td>0.94</td>\n",
       "      <td>1</td>\n",
       "    </tr>\n",
       "    <tr>\n",
       "      <th>1</th>\n",
       "      <td>social_media</td>\n",
       "      <td>retail</td>\n",
       "      <td>1</td>\n",
       "      <td>46992.0</td>\n",
       "      <td>employed</td>\n",
       "      <td>south_america</td>\n",
       "      <td>1</td>\n",
       "      <td>0.80</td>\n",
       "      <td>0</td>\n",
       "    </tr>\n",
       "    <tr>\n",
       "      <th>2</th>\n",
       "      <td>events</td>\n",
       "      <td>healthcare</td>\n",
       "      <td>5</td>\n",
       "      <td>78796.0</td>\n",
       "      <td>unemployed</td>\n",
       "      <td>australia</td>\n",
       "      <td>3</td>\n",
       "      <td>0.69</td>\n",
       "      <td>1</td>\n",
       "    </tr>\n",
       "    <tr>\n",
       "      <th>3</th>\n",
       "      <td>paid_ads</td>\n",
       "      <td>retail</td>\n",
       "      <td>2</td>\n",
       "      <td>83843.0</td>\n",
       "      <td>NaN</td>\n",
       "      <td>australia</td>\n",
       "      <td>1</td>\n",
       "      <td>0.87</td>\n",
       "      <td>0</td>\n",
       "    </tr>\n",
       "    <tr>\n",
       "      <th>4</th>\n",
       "      <td>referral</td>\n",
       "      <td>education</td>\n",
       "      <td>3</td>\n",
       "      <td>85012.0</td>\n",
       "      <td>self_employed</td>\n",
       "      <td>europe</td>\n",
       "      <td>3</td>\n",
       "      <td>0.62</td>\n",
       "      <td>1</td>\n",
       "    </tr>\n",
       "  </tbody>\n",
       "</table>\n",
       "</div>"
      ],
      "text/plain": [
       "    lead_source    industry  number_of_courses_viewed  annual_income  \\\n",
       "0      paid_ads         NaN                         1        79450.0   \n",
       "1  social_media      retail                         1        46992.0   \n",
       "2        events  healthcare                         5        78796.0   \n",
       "3      paid_ads      retail                         2        83843.0   \n",
       "4      referral   education                         3        85012.0   \n",
       "\n",
       "  employment_status       location  interaction_count  lead_score  converted  \n",
       "0        unemployed  south_america                  4        0.94          1  \n",
       "1          employed  south_america                  1        0.80          0  \n",
       "2        unemployed      australia                  3        0.69          1  \n",
       "3               NaN      australia                  1        0.87          0  \n",
       "4     self_employed         europe                  3        0.62          1  "
      ]
     },
     "execution_count": 3,
     "metadata": {},
     "output_type": "execute_result"
    }
   ],
   "source": [
    "df = pd.read_csv(url)\n",
    "df.head()"
   ]
  },
  {
   "cell_type": "code",
   "execution_count": 4,
   "id": "dd2fd449",
   "metadata": {},
   "outputs": [
    {
     "name": "stdout",
     "output_type": "stream",
     "text": [
      "<class 'pandas.core.frame.DataFrame'>\n",
      "RangeIndex: 1462 entries, 0 to 1461\n",
      "Data columns (total 9 columns):\n",
      " #   Column                    Non-Null Count  Dtype  \n",
      "---  ------                    --------------  -----  \n",
      " 0   lead_source               1334 non-null   object \n",
      " 1   industry                  1328 non-null   object \n",
      " 2   number_of_courses_viewed  1462 non-null   int64  \n",
      " 3   annual_income             1281 non-null   float64\n",
      " 4   employment_status         1362 non-null   object \n",
      " 5   location                  1399 non-null   object \n",
      " 6   interaction_count         1462 non-null   int64  \n",
      " 7   lead_score                1462 non-null   float64\n",
      " 8   converted                 1462 non-null   int64  \n",
      "dtypes: float64(2), int64(3), object(4)\n",
      "memory usage: 102.9+ KB\n"
     ]
    }
   ],
   "source": [
    "df.info()"
   ]
  },
  {
   "cell_type": "markdown",
   "id": "7b1d3a94",
   "metadata": {},
   "source": [
    "## Data Preparation and Filling missing values"
   ]
  },
  {
   "cell_type": "code",
   "execution_count": 5,
   "id": "3cbd19c1",
   "metadata": {},
   "outputs": [],
   "source": [
    "#sometimes there's not uniformity among the names in the data, so we correct the names to lowercase and fill spaces with underscores\n",
    "\n",
    "df.columns = df.columns.str.lower().str.replace(' ','_')\n",
    "\n",
    "categorical_columns = list(df.dtypes[df.dtypes == 'object'].index)\n",
    "\n",
    "for c in categorical_columns:\n",
    "    df[c] = df[c].str.lower().str.replace(' ','_')"
   ]
  },
  {
   "cell_type": "code",
   "execution_count": 6,
   "id": "ccd3b60a",
   "metadata": {},
   "outputs": [],
   "source": [
    "# Create list of numerical and categorical features\n",
    "numerical_features = df.select_dtypes(include=np.number).columns.tolist()\n",
    "categorical_features = df.select_dtypes(include=\"object\").columns.tolist()\n",
    "\n",
    "# Fill missing values, where numerical features are filled with 0 and categorical features are filled with \"NA\"\n",
    "df[numerical_features] = df[numerical_features].fillna(0)\n",
    "df[categorical_features] = df[categorical_features].fillna(\"NA\")"
   ]
  },
  {
   "cell_type": "code",
   "execution_count": 7,
   "id": "87f1a43f",
   "metadata": {},
   "outputs": [
    {
     "data": {
      "text/plain": [
       "lead_source                 0\n",
       "industry                    0\n",
       "number_of_courses_viewed    0\n",
       "annual_income               0\n",
       "employment_status           0\n",
       "location                    0\n",
       "interaction_count           0\n",
       "lead_score                  0\n",
       "converted                   0\n",
       "dtype: int64"
      ]
     },
     "execution_count": 7,
     "metadata": {},
     "output_type": "execute_result"
    }
   ],
   "source": [
    "#check if there are any missing values left\n",
    "df.isnull().sum()"
   ]
  },
  {
   "cell_type": "code",
   "execution_count": 8,
   "id": "d5737254",
   "metadata": {},
   "outputs": [
    {
     "data": {
      "text/plain": [
       "lead_source                  object\n",
       "industry                     object\n",
       "number_of_courses_viewed      int64\n",
       "annual_income               float64\n",
       "employment_status            object\n",
       "location                     object\n",
       "interaction_count             int64\n",
       "lead_score                  float64\n",
       "converted                     int64\n",
       "dtype: object"
      ]
     },
     "execution_count": 8,
     "metadata": {},
     "output_type": "execute_result"
    }
   ],
   "source": [
    "df.dtypes"
   ]
  },
  {
   "cell_type": "code",
   "execution_count": 9,
   "id": "081e3647",
   "metadata": {},
   "outputs": [],
   "source": [
    "# Prepare data for modeling\n",
    "target = \"converted\"\n",
    "features = numerical_features + categorical_features\n",
    "features.remove(target)"
   ]
  },
  {
   "cell_type": "markdown",
   "id": "b4405411",
   "metadata": {},
   "source": [
    "## Setting up train/val/test framework"
   ]
  },
  {
   "cell_type": "code",
   "execution_count": 10,
   "id": "1bd094b9",
   "metadata": {},
   "outputs": [
    {
     "data": {
      "text/plain": [
       "(876, 293, 293)"
      ]
     },
     "execution_count": 10,
     "metadata": {},
     "output_type": "execute_result"
    }
   ],
   "source": [
    "df_full_train, df_test = train_test_split(df, test_size=0.2, random_state=1)\n",
    "df_train, df_val = train_test_split(df_full_train, test_size=0.25, random_state=1)\n",
    "\n",
    "len(df_train), len(df_val), len(df_test)"
   ]
  },
  {
   "cell_type": "code",
   "execution_count": 11,
   "id": "442d98db",
   "metadata": {},
   "outputs": [],
   "source": [
    "# Training set\n",
    "df_train = df_train.reset_index(drop=True)\n",
    "y_train = df_train.converted.values\n",
    "\n",
    "# val set\n",
    "df_val = df_val.reset_index(drop=True)\n",
    "y_val = df_val.converted.values\n",
    "\n",
    "# Test set\n",
    "df_test = df_test.reset_index(drop=True)\n",
    "y_test = df_test.converted.values"
   ]
  },
  {
   "cell_type": "code",
   "execution_count": 12,
   "id": "1095b8f5",
   "metadata": {},
   "outputs": [],
   "source": [
    "del df_train['converted']\n",
    "del df_val['converted']\n",
    "del df_test['converted']"
   ]
  },
  {
   "cell_type": "markdown",
   "id": "272cbdbc",
   "metadata": {},
   "source": [
    "## 1. ROC AUC feature importance\n",
    "\n",
    "This would be used just like the mutual info score. but for the numerical variables.\n",
    "\n",
    "- Which numerical variable (among the following 4) has the highest AUC?"
   ]
  },
  {
   "cell_type": "code",
   "execution_count": 13,
   "id": "3cd2b3bb",
   "metadata": {},
   "outputs": [],
   "source": [
    "from sklearn.metrics import roc_auc_score"
   ]
  },
  {
   "cell_type": "code",
   "execution_count": 14,
   "id": "8907e0ae",
   "metadata": {},
   "outputs": [
    {
     "name": "stdout",
     "output_type": "stream",
     "text": [
      "number_of_courses_viewed: 0.7636\n",
      "annual_income: 0.5520\n",
      "interaction_count: 0.7383\n",
      "lead_score: 0.6145\n",
      "\n",
      "Numerical variable with highest AUC: number_of_courses_viewed with ROC AUC score of 0.7636\n"
     ]
    }
   ],
   "source": [
    "#Dictionary to hold ROC AUC scores\n",
    "auc_scores = {}\n",
    "\n",
    "numerical = ['number_of_courses_viewed', 'annual_income', 'interaction_count', 'lead_score']\n",
    "# For each numerical variable\n",
    "for var in numerical:\n",
    "    auc = roc_auc_score(y_train, df_train[var])\n",
    "\n",
    "    if auc < 0.5:    #auc = 1 - auc\n",
    "        auc = roc_auc_score(y_train, -df_train[var])\n",
    "\n",
    "    auc_scores[var] = auc\n",
    "    print(f\"{var}: {auc:.4f}\")\n",
    "\n",
    "#indicate variable with highest roc auc score\n",
    "best_var = max(auc_scores, key=auc_scores.get)\n",
    "print(f\"\\nNumerical variable with highest AUC: {best_var} with ROC AUC score of {auc_scores[best_var]:.4f}\")"
   ]
  },
  {
   "cell_type": "markdown",
   "id": "ef7a32be",
   "metadata": {},
   "source": [
    "## 2. Training the model\n",
    "\n",
    "- we apply one hot encoding using DictVectorizer \n",
    "- Next, we train using Logistic Regression\n",
    "\n"
   ]
  },
  {
   "cell_type": "code",
   "execution_count": 15,
   "id": "dec7ca52",
   "metadata": {},
   "outputs": [],
   "source": [
    "#First, we can create a function to train the model, \n",
    "#which will take the training dataframe and target values as input parameters,while applying one-hot encoding using DictVectorizer and training using Logistic Regression.\n",
    "\n",
    "def train(df_train, y_train, C = 1.0):   #default value of c = 1.0\n",
    "    dicts = df_train[features].to_dict(orient='records')\n",
    "\n",
    "\n",
    "# one-hot encoding\n",
    "    dv = DictVectorizer(sparse=False)\n",
    "    X_train =dv.fit_transform(dicts)\n",
    "\n",
    "    model = LogisticRegression(solver='liblinear', max_iter=1000, C=C)\n",
    "    model.fit(X_train,y_train)\n",
    "\n",
    "    return dv, model\n"
   ]
  },
  {
   "cell_type": "code",
   "execution_count": 16,
   "id": "410ebd9e",
   "metadata": {},
   "outputs": [],
   "source": [
    "dv, model = train(df_train, y_train, C=1.0)"
   ]
  },
  {
   "cell_type": "code",
   "execution_count": 17,
   "id": "c8d262ba",
   "metadata": {},
   "outputs": [],
   "source": [
    "def predict(df_train, dv, model):\n",
    "    dicts = df_train[features].to_dict(orient='records')\n",
    "\n",
    "    X = dv.transform(dicts)\n",
    "    y_pred = model.predict_proba(X)[:,1]\n",
    "\n",
    "    return y_pred"
   ]
  },
  {
   "cell_type": "code",
   "execution_count": 18,
   "id": "8d7d326b",
   "metadata": {},
   "outputs": [],
   "source": [
    "y_pred = predict(df_val, dv, model)"
   ]
  },
  {
   "cell_type": "code",
   "execution_count": 19,
   "id": "f8a73d26",
   "metadata": {},
   "outputs": [
    {
     "data": {
      "text/plain": [
       "0.8171316268814112"
      ]
     },
     "execution_count": 19,
     "metadata": {},
     "output_type": "execute_result"
    }
   ],
   "source": [
    "#using scikit learn roc_auc to test model on val set.\n",
    "\n",
    "roc_auc_score(y_val,y_pred) "
   ]
  },
  {
   "cell_type": "markdown",
   "id": "02f66a7a",
   "metadata": {},
   "source": [
    "#### Note: Using the lbgs solver above in the model logistic regression, gets us close to 0.92 expected in the homework. Somehow liblinear gives a different output. 0.817, except when the data is scaled. Then both solvers give almost same output."
   ]
  },
  {
   "cell_type": "code",
   "execution_count": 20,
   "id": "a9d84e46",
   "metadata": {},
   "outputs": [
    {
     "name": "stdout",
     "output_type": "stream",
     "text": [
      "AUC on validation dataset: 0.921\n"
     ]
    }
   ],
   "source": [
    "#NB, using a standard scaler to scale the features before training the model, gives an AUC that is closer to the Homework options.\n",
    "\n",
    "from sklearn.feature_extraction import DictVectorizer\n",
    "from sklearn.linear_model import LogisticRegression\n",
    "from sklearn.metrics import roc_auc_score\n",
    "from sklearn.preprocessing import StandardScaler\n",
    "\n",
    "# Convert dataframes to dictionaries for DictVectorizer\n",
    "train_dicts = df_train.to_dict(orient='records')\n",
    "val_dicts = df_val.to_dict(orient='records')\n",
    "\n",
    "# Apply one-hot encoding\n",
    "dv = DictVectorizer(sparse=False)\n",
    "X_train = dv.fit_transform(train_dicts)\n",
    "X_val = dv.transform(val_dicts)\n",
    "\n",
    "# Apply StandardScaler\n",
    "scaler = StandardScaler()\n",
    "X_train_scaled = scaler.fit_transform(X_train)\n",
    "X_val_scaled = scaler.transform(X_val)\n",
    "\n",
    "# Train logistic regression\n",
    "model = LogisticRegression(solver='liblinear', C=1.0, max_iter=1000)\n",
    "model.fit(X_train_scaled, y_train)\n",
    "\n",
    "# Make predictions on validation set\n",
    "y_pred = model.predict_proba(X_val_scaled)[:, 1]\n",
    "\n",
    "# Calculate AUC\n",
    "auc = roc_auc_score(y_val, y_pred)\n",
    "print(f\"AUC on validation dataset: {auc:.3f}\")"
   ]
  },
  {
   "cell_type": "markdown",
   "id": "df7505e3",
   "metadata": {},
   "source": [
    "## 3. Precision and Recall\n",
    "\n",
    "Now let's compute precision and recall for our model.\n",
    "\n",
    "- Evaluate the model on all thresholds from 0.0 to 1.0 with step 0.01\n",
    "- For each threshold, compute precision and recall\n",
    "- Plot them\n",
    "\n",
    "At which threshold precision and recall curves intersect?"
   ]
  },
  {
   "cell_type": "code",
   "execution_count": 21,
   "id": "4456c6ea",
   "metadata": {},
   "outputs": [
    {
     "name": "stdout",
     "output_type": "stream",
     "text": [
      "0.00, 0.584\n",
      "0.01, 0.604\n",
      "0.02, 0.631\n",
      "0.03, 0.635\n",
      "0.04, 0.652\n",
      "0.05, 0.655\n",
      "0.06, 0.662\n",
      "0.07, 0.666\n",
      "0.08, 0.666\n",
      "0.09, 0.669\n",
      "0.10, 0.676\n",
      "0.11, 0.683\n",
      "0.12, 0.686\n",
      "0.13, 0.693\n",
      "0.14, 0.696\n",
      "0.15, 0.706\n",
      "0.16, 0.710\n",
      "0.17, 0.724\n",
      "0.18, 0.741\n",
      "0.19, 0.751\n",
      "0.20, 0.765\n",
      "0.21, 0.765\n",
      "0.22, 0.765\n",
      "0.23, 0.765\n",
      "0.24, 0.782\n",
      "0.25, 0.785\n",
      "0.26, 0.788\n",
      "0.27, 0.795\n",
      "0.28, 0.802\n",
      "0.29, 0.805\n",
      "0.30, 0.809\n",
      "0.31, 0.819\n",
      "0.32, 0.826\n",
      "0.33, 0.836\n",
      "0.34, 0.829\n",
      "0.35, 0.840\n",
      "0.36, 0.833\n",
      "0.37, 0.833\n",
      "0.38, 0.833\n",
      "0.39, 0.833\n",
      "0.40, 0.836\n",
      "0.41, 0.840\n",
      "0.42, 0.840\n",
      "0.43, 0.840\n",
      "0.44, 0.840\n",
      "0.45, 0.840\n",
      "0.46, 0.843\n",
      "0.47, 0.843\n",
      "0.48, 0.846\n",
      "0.49, 0.850\n",
      "0.50, 0.846\n",
      "0.51, 0.857\n",
      "0.52, 0.853\n",
      "0.53, 0.853\n",
      "0.54, 0.846\n",
      "0.55, 0.850\n",
      "0.56, 0.853\n",
      "0.57, 0.853\n",
      "0.58, 0.857\n",
      "0.59, 0.853\n",
      "0.60, 0.846\n",
      "0.61, 0.846\n",
      "0.62, 0.843\n",
      "0.63, 0.850\n",
      "0.64, 0.850\n",
      "0.65, 0.853\n",
      "0.66, 0.857\n",
      "0.67, 0.850\n",
      "0.68, 0.846\n",
      "0.69, 0.843\n",
      "0.70, 0.846\n",
      "0.71, 0.840\n",
      "0.72, 0.843\n",
      "0.73, 0.843\n",
      "0.74, 0.843\n",
      "0.75, 0.840\n",
      "0.76, 0.840\n",
      "0.77, 0.833\n",
      "0.78, 0.836\n",
      "0.79, 0.833\n",
      "0.80, 0.829\n",
      "0.81, 0.819\n",
      "0.82, 0.816\n",
      "0.83, 0.809\n",
      "0.84, 0.799\n",
      "0.85, 0.799\n",
      "0.86, 0.792\n",
      "0.87, 0.782\n",
      "0.88, 0.771\n",
      "0.89, 0.765\n",
      "0.90, 0.737\n",
      "0.91, 0.734\n",
      "0.92, 0.724\n",
      "0.93, 0.706\n",
      "0.94, 0.693\n",
      "0.95, 0.666\n",
      "0.96, 0.638\n",
      "0.97, 0.628\n",
      "0.98, 0.601\n",
      "0.99, 0.553\n",
      "1.00, 0.416\n"
     ]
    }
   ],
   "source": [
    "# Define thresholds from 0.0 to 1.0 with step 0.01\n",
    "thresholds = np.arange(0.0, 1.01, 0.01)\n",
    "scores = []\n",
    "\n",
    "for t in thresholds:\n",
    "    converted_decision = (y_pred >= t)\n",
    "    score = (y_val == converted_decision).mean()\n",
    "    print('%.2f, %.3f' % (t, score))\n",
    "    scores.append(score)\n",
    "\n",
    "#Here, score means the accuracy.\n",
    "\n",
    "#The above can also be implemented \n",
    "# froms sklearn.metrics import accuracy_score\n",
    "#score = accuracy_score(y_val,y_pred >= t)\n",
    "# print('%.2f, %.3f' % (t, score))\n",
    "# scores.append(score)"
   ]
  },
  {
   "cell_type": "code",
   "execution_count": 23,
   "id": "0c41b587",
   "metadata": {},
   "outputs": [
    {
     "data": {
      "image/png": "[encoded data removed]",
      "text/plain": [
       "<Figure size 640x480 with 1 Axes>"
      ]
     },
     "metadata": {},
     "output_type": "display_data"
    }
   ],
   "source": [
    "plt.plot(thresholds, scores)\n",
    "plt.xlabel('Threshold')\n",
    "plt.ylabel('Accuracy Score')\n",
    "plt.title('Accuracy Score vs. Threshold')\n",
    "plt.show()"
   ]
  },
  {
   "cell_type": "code",
   "execution_count": 24,
   "id": "178c8049",
   "metadata": {},
   "outputs": [],
   "source": [
    "#Calculating Precision and Recall for different thresholds\n",
    "\n",
    "thresholds = np.arange(0.0, 1.01, 0.01)\n",
    "\n",
    "actual_positive = (y_val == 1)\n",
    "actual_negative = (y_val == 0)\n",
    "\n",
    "precisions = []\n",
    "recalls = []\n",
    "\n",
    "for t in thresholds:\n",
    "    predict_positive = (y_pred >= t)\n",
    "    predict_negative = (y_pred < t)\n",
    "\n",
    "    tp = (predict_positive & actual_positive).sum()\n",
    "    tn = (predict_negative & actual_negative).sum()\n",
    "    fp = (predict_positive & actual_negative).sum()\n",
    "    fn = (predict_negative & actual_positive).sum()\n",
    "\n",
    "    Precision = tp / (tp + fp) if (tp + fp) > 0 else 0\n",
    "    Recall = tp / (tp + fn) if (tp + fn) > 0 else 0\n",
    "\n",
    "    precisions.append(Precision)\n",
    "    recalls.append(Recall)"
   ]
  },
  {
   "cell_type": "code",
   "execution_count": 25,
   "id": "cbfa3e00",
   "metadata": {},
   "outputs": [
    {
     "data": {
      "image/png": "[encoded data removed]",
      "text/plain": [
       "<Figure size 640x480 with 1 Axes>"
      ]
     },
     "metadata": {},
     "output_type": "display_data"
    }
   ],
   "source": [
    "#Plot Precision and Recall vs. Threshold\n",
    "plt.plot(thresholds, precisions, label='Precision')\n",
    "plt.plot(thresholds, recalls, label='Recall')\n",
    "plt.xlabel('Threshold')\n",
    "plt.ylabel('Score')\n",
    "plt.title('Precision and Recall vs. Threshold')\n",
    "plt.legend()\n",
    "plt.show()"
   ]
  },
  {
   "cell_type": "code",
   "execution_count": null,
   "id": "caaaec1b",
   "metadata": {},
   "outputs": [],
   "source": [
    "#this can also be done using sklearn.metrics\n",
    "#from sklearn.metrics import precision_score, recall_score\n",
    "#precisions = []\n",
    "#recalls = []\n",
    "#for t in thresholds:\n",
    "#    predict_positive = (y_pred >= t)    \n",
    "#    Precision = precision_score(y_val, predict_positive)\n",
    "#    Recall = recall_score(y_val, predict_positive)\n",
    "#    precisions.append(Precision)\n",
    "#    recalls.append(Recall)"
   ]
  },
  {
   "cell_type": "code",
   "execution_count": 32,
   "id": "95896104",
   "metadata": {},
   "outputs": [
    {
     "name": "stdout",
     "output_type": "stream",
     "text": [
      "Intersection between 0.51 and 0.52\n",
      "Approximate intersection threshold: 0.52\n"
     ]
    }
   ],
   "source": [
    "# Find where precision and recall cross\n",
    "for i in range(len(thresholds) - 1):\n",
    "    # Check if they cross between threshold i and i+1\n",
    "    if (precisions[i] >= recalls[i] and precisions[i+1] <= recalls[i+1]) or \\\n",
    "       (precisions[i] <= recalls[i] and precisions[i+1] >= recalls[i+1]):\n",
    "        # Linear interpolation to find exact crossing point\n",
    "        t1, t2 = thresholds[i], thresholds[i+1]\n",
    "        p1, p2 = precisions[i], precisions[i+1]\n",
    "        r1, r2 = recalls[i], recalls[i+1]\n",
    "        \n",
    "        # Intersection threshold (interpolated)\n",
    "        intersection = (t1 + t2) / 2  # Simple midpoint approximation\n",
    "        \n",
    "        print(f\"Intersection between {t1:.2f} and {t2:.2f}\")\n",
    "        print(f\"Approximate intersection threshold: {intersection:.2f}\")\n",
    "        \n",
    "        break #stop after first intersection found.\n",
    "    "
   ]
  },
  {
   "cell_type": "markdown",
   "id": "0b88c302",
   "metadata": {},
   "source": [
    "## 4. F1 score\n",
    "\n",
    "Precision and recall are conflicting - when one grows, the other goes down. That's why they are often combined into the F1 score - a metrics that takes into account both.\n",
    "\n",
    "Let's compute F1 for all thresholds from 0.0 to 1.0 with increment 0.01\n",
    "\n",
    "- At which threshold F1 is maximal?"
   ]
  },
  {
   "cell_type": "code",
   "execution_count": 36,
   "id": "086444e5",
   "metadata": {},
   "outputs": [
    {
     "name": "stdout",
     "output_type": "stream",
     "text": [
      "Maximum F1 score: 0.8779 at threshold: 0.51\n"
     ]
    }
   ],
   "source": [
    "F1_scores = []\n",
    "thresholds = np.arange(0.0, 1.01, 0.01)\n",
    "\n",
    "actual_positive = (y_val == 1)\n",
    "actual_negative = (y_val == 0)\n",
    "\n",
    "for t in thresholds:\n",
    "    predict_positive = (y_pred >= t)\n",
    "    predict_negative = (y_pred < t)\n",
    "\n",
    "    tp = (predict_positive & actual_positive).sum()\n",
    "    tn = (predict_negative & actual_negative).sum()\n",
    "    fp = (predict_positive & actual_negative).sum()\n",
    "    fn = (predict_negative & actual_positive).sum()\n",
    "\n",
    "    Precision = tp / (tp + fp) if (tp + fp) > 0 else 0\n",
    "    Recall = tp / (tp + fn) if (tp + fn) > 0 else 0\n",
    "\n",
    "    if Precision + Recall > 0:\n",
    "        F1 = 2 * (Precision * Recall) / (Precision + Recall)\n",
    "    else:\n",
    "        F1 = 0\n",
    "\n",
    "    F1_scores.append(F1)    \n",
    "\n",
    "# Find the threshold with maximum F1 score\n",
    "Max_F1 = max(F1_scores)\n",
    "Max_index = F1_scores.index(Max_F1)\n",
    "Best_threshold = thresholds[Max_index]\n",
    "\n",
    "print(f\"Maximum F1 score: {Max_F1:.4f} at threshold: {Best_threshold:.2f}\")"
   ]
  },
  {
   "cell_type": "code",
   "execution_count": 37,
   "id": "419b6005",
   "metadata": {},
   "outputs": [
    {
     "name": "stdout",
     "output_type": "stream",
     "text": [
      "Best F1 Score: 0.878\n",
      "At threshold: 0.51\n"
     ]
    }
   ],
   "source": [
    "# Using sklearn to compute F1 score for different thresholds\n",
    "from sklearn.metrics import f1_score\n",
    "\n",
    "# Lists to store F1 scores\n",
    "f1_scores = []\n",
    "\n",
    "for t in thresholds:\n",
    "    # Convert probabilities to binary predictions\n",
    "    y_pred_binary = (y_pred >= t).astype(int)\n",
    "    \n",
    "    # Calculate F1 score\n",
    "    f1 = f1_score(y_val, y_pred_binary, zero_division=0)\n",
    "    \n",
    "    f1_scores.append(f1)\n",
    "\n",
    "# Find the threshold with maximum F1 score\n",
    "max_f1_idx = np.argmax(f1_scores)\n",
    "best_threshold = thresholds[max_f1_idx]\n",
    "\n",
    "print(f\"Best F1 Score: {f1_scores[max_f1_idx]:.3f}\")\n",
    "print(f\"At threshold: {best_threshold:.2f}\")"
   ]
  },
  {
   "cell_type": "markdown",
   "id": "52463a93",
   "metadata": {},
   "source": [
    "## 5. 5-fold CV\n",
    "\n",
    "Use the KFold class from Scikit-Learn to evaluate our model on 5 different folds:\n",
    "\n",
    "KFold(n_splits=5, shuffle=True, random_state=1)\n",
    "- Iterate over different folds of df_full_train\n",
    "- Split the data into train and validation\n",
    "- Train the model on train with these parameters: LogisticRegression(solver='liblinear', C=1.0, max_iter=1000)\n",
    "- Use AUC to evaluate the model on validation\n",
    "\n",
    "How large is standard deviation of the scores across different folds?\n",
    "\n"
   ]
  },
  {
   "cell_type": "code",
   "execution_count": 39,
   "id": "4ce14334",
   "metadata": {},
   "outputs": [],
   "source": [
    "from sklearn.model_selection import KFold"
   ]
  },
  {
   "cell_type": "code",
   "execution_count": 41,
   "id": "4069561d",
   "metadata": {},
   "outputs": [],
   "source": [
    "#initialise kfold\n",
    "\n",
    "kfold = KFold(n_splits=5, shuffle=True, random_state=1)"
   ]
  },
  {
   "cell_type": "code",
   "execution_count": 42,
   "id": "52158c81",
   "metadata": {},
   "outputs": [
    {
     "data": {
      "text/plain": [
       "<generator object _BaseKFold.split at 0x7268c5902df0>"
      ]
     },
     "execution_count": 42,
     "metadata": {},
     "output_type": "execute_result"
    }
   ],
   "source": [
    "kfold.split(df_full_train)"
   ]
  },
  {
   "cell_type": "code",
   "execution_count": 44,
   "id": "98cabe2d",
   "metadata": {},
   "outputs": [
    {
     "data": {
      "text/plain": [
       "(935, 234, 1169)"
      ]
     },
     "execution_count": 44,
     "metadata": {},
     "output_type": "execute_result"
    }
   ],
   "source": [
    "train_idx, val_idx = next(kfold.split(df_full_train))\n",
    "len(train_idx), len(val_idx),len(df_full_train)"
   ]
  },
  {
   "cell_type": "code",
   "execution_count": 46,
   "id": "ef7847e7",
   "metadata": {},
   "outputs": [],
   "source": [
    "def train(df, y_train, C = 1.0):   #default value of c = 1.0\n",
    "    dicts = df[features].to_dict(orient='records')\n",
    "\n",
    "\n",
    "# one-hot encoding\n",
    "    dv = DictVectorizer(sparse=False)\n",
    "    X_train =dv.fit_transform(dicts)\n",
    "\n",
    "    model = LogisticRegression(solver='liblinear', max_iter=1000, C=C)\n",
    "    model.fit(X_train,y_train)\n",
    "\n",
    "    return dv, model"
   ]
  },
  {
   "cell_type": "code",
   "execution_count": 47,
   "id": "912c3a14",
   "metadata": {},
   "outputs": [],
   "source": [
    "def predict(df, dv, model):\n",
    "    dicts = df[features].to_dict(orient='records')\n",
    "\n",
    "    X = dv.transform(dicts)\n",
    "    y_pred = model.predict_proba(X)[:,1]\n",
    "\n",
    "    return y_pred"
   ]
  },
  {
   "cell_type": "code",
   "execution_count": 56,
   "id": "df919074",
   "metadata": {},
   "outputs": [
    {
     "name": "stdout",
     "output_type": "stream",
     "text": [
      "Fold 1: AUC = 0.806\n",
      "Fold 2: AUC = 0.871\n",
      "Fold 3: AUC = 0.775\n",
      "Fold 4: AUC = 0.802\n",
      "Fold 5: AUC = 0.856\n",
      "\n",
      "Mean AUC: 0.822\n",
      "Std AUC: 0.036\n",
      "AUC scores: ['0.806', '0.871', '0.775', '0.802', '0.856']\n"
     ]
    }
   ],
   "source": [
    "n_splits = 5\n",
    "auc_scores = []\n",
    "\n",
    "for fold, (train_idx, val_idx) in enumerate(kfold.split(df_full_train), 1):\n",
    "# Split the data into train and validation for this fold\n",
    "    df_train_fold = df_full_train.iloc[train_idx]\n",
    "    df_val_fold = df_full_train.iloc[val_idx]\n",
    "\n",
    "    y_train_fold = df_train_fold.converted.values\n",
    "    y_val_fold = df_val_fold.converted.values\n",
    "\n",
    "    del df_train_fold['converted']\n",
    "    del df_val_fold['converted']\n",
    "\n",
    "    dv, model = train(df_train_fold, y_train_fold, C=1.0) #NB train function defined earlier.\n",
    "    y_pred = predict(df_val_fold, dv, model)    #predict function defined earlier.\n",
    "\n",
    "    auc = roc_auc_score(y_val_fold, y_pred)\n",
    "    auc_scores.append(auc)\n",
    "    print(f\"Fold {fold}: AUC = {auc:.3f}\")\n",
    "\n",
    "# Calculate mean and standard deviation\n",
    "mean_auc = np.mean(auc_scores)\n",
    "std_auc = np.std(auc_scores)\n",
    "\n",
    "print(f\"\\nMean AUC: {mean_auc:.3f}\")\n",
    "print(f\"Std AUC: {std_auc:.3f}\")\n",
    "print(f\"AUC scores: {[f'{score:.3f}' for score in auc_scores]}\")\n"
   ]
  },
  {
   "cell_type": "markdown",
   "id": "0963afe1",
   "metadata": {},
   "source": [
    "## 6. Hyperparameter Tuning.\n",
    "\n",
    "Now let's use 5-Fold cross-validation to find the best parameter C\n",
    "\n",
    "- Iterate over the following C values: [0.000001, 0.001, 1]\n",
    "- Initialize KFold with the same parameters as previously\n",
    "- Use these parameters for the model: LogisticRegression(solver='liblinear', C=C, max_iter=1000)\n",
    "- Compute the mean score as well as the std (round the mean and std to 3 decimal digits)\n",
    "- Which C leads to the best mean score?\n"
   ]
  },
  {
   "cell_type": "code",
   "execution_count": 68,
   "id": "621aae53",
   "metadata": {},
   "outputs": [
    {
     "name": "stdout",
     "output_type": "stream",
     "text": [
      "C=1e-06: 0.560 +- 0.024\n",
      "C=0.001: 0.867 +- 0.029\n",
      "C=1: 0.822 +- 0.036\n"
     ]
    }
   ],
   "source": [
    "results = {}\n",
    "c_values = [0.000001, 0.001, 1]\n",
    "\n",
    "for c in c_values: #always best to use lowercase for variable names, like for 'c' = c_values.\n",
    "    kfold = KFold(n_splits=5, shuffle=True, random_state=1)\n",
    "\n",
    "    auc_scores = []\n",
    "\n",
    "    for fold, (train_idx, val_idx) in enumerate(kfold.split(df_full_train), 1):\n",
    "    # Split the data into train and validation for this fold\n",
    "        df_train_fold = df_full_train.iloc[train_idx]\n",
    "        df_val_fold = df_full_train.iloc[val_idx]\n",
    "\n",
    "        y_train_fold = df_train_fold.converted.values\n",
    "        y_val_fold = df_val_fold.converted.values\n",
    "\n",
    "        del df_train_fold['converted']\n",
    "        del df_val_fold['converted']\n",
    "\n",
    "        dv, model = train(df_train_fold, y_train_fold, C=c) #NB train function defined earlier.\n",
    "        y_pred = predict(df_val_fold, dv, model)    #predict function defined earlier.\n",
    "\n",
    "        auc = roc_auc_score(y_val_fold, y_pred)\n",
    "        auc_scores.append(auc)\n",
    "\n",
    "    print(f'C={c}: %.3f +- %.3f' % (np.mean(auc_scores), np.std(auc_scores)))\n",
    "\n",
    "\n"
   ]
  },
  {
   "cell_type": "code",
   "execution_count": null,
   "id": "bd39ea23",
   "metadata": {},
   "outputs": [],
   "source": []
  }
 ],
 "metadata": {
  "kernelspec": {
   "display_name": "Python 3",
   "language": "python",
   "name": "python3"
  },
  "language_info": {
   "codemirror_mode": {
    "name": "ipython",
    "version": 3
   },
   "file_extension": ".py",
   "mimetype": "text/x-python",
   "name": "python",
   "nbconvert_exporter": "python",
   "pygments_lexer": "ipython3",
   "version": "3.12.1"
  }
 },
 "nbformat": 4,
 "nbformat_minor": 5
}
